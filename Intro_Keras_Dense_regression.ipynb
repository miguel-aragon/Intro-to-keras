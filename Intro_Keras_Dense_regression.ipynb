{
 "cells": [
  {
   "cell_type": "markdown",
   "metadata": {},
   "source": [
    "### Image classification as a regression problem.\n",
    "### Adapted from original post on classification:\n",
    "https://machinelearningmastery.com/handwritten-digit-recognition-using-convolutional-neural-networks-python-keras/"
   ]
  },
  {
   "cell_type": "code",
   "execution_count": 29,
   "metadata": {},
   "outputs": [],
   "source": [
    "import tensorflow as tf\n",
    "import numpy as np\n",
    "\n",
    "from keras.datasets import mnist\n",
    "from keras.datasets import mnist\n",
    "from keras.models import Sequential\n",
    "from keras.layers import Dense\n",
    "from keras.layers import Dropout\n",
    "from keras.utils import np_utils\n",
    "\n",
    "import matplotlib.pyplot as plt"
   ]
  },
  {
   "cell_type": "code",
   "execution_count": 30,
   "metadata": {},
   "outputs": [],
   "source": [
    "# fix random seed for reproducibility\n",
    "seed = 7\n",
    "np.random.seed(seed)"
   ]
  },
  {
   "cell_type": "code",
   "execution_count": 8,
   "metadata": {},
   "outputs": [],
   "source": [
    "# load data and cast for regression\n",
    "(X_train, y_train), (X_test, y_test) = mnist.load_data()\n",
    "y_train = y_train.astype(np.float32)\n",
    "y_test  = y_test.astype(np.float32)"
   ]
  },
  {
   "cell_type": "code",
   "execution_count": 10,
   "metadata": {},
   "outputs": [],
   "source": [
    "# flatten 28*28 image to a 784 vector for each image\n",
    "num_pixels = X_train.shape[1] * X_train.shape[2]\n",
    "X_train    = X_train.reshape(X_train.shape[0], num_pixels).astype('float32')\n",
    "X_test     = X_test.reshape(X_test.shape[0], num_pixels).astype('float32')"
   ]
  },
  {
   "cell_type": "code",
   "execution_count": 11,
   "metadata": {},
   "outputs": [],
   "source": [
    "# normalize inputs from 0-255 to 0-1\n",
    "X_train = X_train / 255\n",
    "X_test  = X_test / 255"
   ]
  },
  {
   "cell_type": "code",
   "execution_count": 12,
   "metadata": {},
   "outputs": [],
   "source": [
    "# define baseline model\n",
    "def baseline_model():\n",
    "    # create model\n",
    "    model = Sequential()\n",
    "    model.add(Dense(num_pixels, input_dim=num_pixels, kernel_initializer='normal', activation='relu'))\n",
    "    model.add(Dense(1, kernel_initializer='normal', activation='linear'))\n",
    "    # Compile model\n",
    "    model.compile(loss='mse', optimizer='adam', metrics=['mse'])\n",
    "    return model"
   ]
  },
  {
   "cell_type": "code",
   "execution_count": 13,
   "metadata": {},
   "outputs": [
    {
     "name": "stdout",
     "output_type": "stream",
     "text": [
      "WARNING:tensorflow:From /Users/miguel/anaconda3/envs/keras_env/lib/python3.5/site-packages/tensorflow/python/framework/op_def_library.py:263: colocate_with (from tensorflow.python.framework.ops) is deprecated and will be removed in a future version.\n",
      "Instructions for updating:\n",
      "Colocations handled automatically by placer.\n",
      "_________________________________________________________________\n",
      "Layer (type)                 Output Shape              Param #   \n",
      "=================================================================\n",
      "dense_1 (Dense)              (None, 784)               615440    \n",
      "_________________________________________________________________\n",
      "dense_2 (Dense)              (None, 1)                 785       \n",
      "=================================================================\n",
      "Total params: 616,225\n",
      "Trainable params: 616,225\n",
      "Non-trainable params: 0\n",
      "_________________________________________________________________\n"
     ]
    }
   ],
   "source": [
    "# build the model\n",
    "model = baseline_model()\n",
    "model.summary()"
   ]
  },
  {
   "cell_type": "code",
   "execution_count": 14,
   "metadata": {},
   "outputs": [
    {
     "name": "stdout",
     "output_type": "stream",
     "text": [
      ">>> Number of parameters in first layer:  615440\n",
      ">>> Number of parameters in second layer 7850\n"
     ]
    }
   ],
   "source": [
    "print(\">>> Number of parameters in first layer: \", num_pixels*num_pixels + num_pixels)\n",
    "print(\">>> Number of parameters in second layer\", 10*num_pixels + 10)"
   ]
  },
  {
   "cell_type": "code",
   "execution_count": 15,
   "metadata": {},
   "outputs": [
    {
     "name": "stdout",
     "output_type": "stream",
     "text": [
      "WARNING:tensorflow:From /Users/miguel/anaconda3/envs/keras_env/lib/python3.5/site-packages/tensorflow/python/ops/math_ops.py:3066: to_int32 (from tensorflow.python.ops.math_ops) is deprecated and will be removed in a future version.\n",
      "Instructions for updating:\n",
      "Use tf.cast instead.\n",
      "Train on 60000 samples, validate on 10000 samples\n",
      "Epoch 1/40\n",
      " - 4s - loss: 2.7546 - mean_squared_error: 2.7546 - val_loss: 1.3944 - val_mean_squared_error: 1.3944\n",
      "Epoch 2/40\n",
      " - 3s - loss: 1.1199 - mean_squared_error: 1.1199 - val_loss: 0.9954 - val_mean_squared_error: 0.9954\n",
      "Epoch 3/40\n",
      " - 3s - loss: 0.8375 - mean_squared_error: 0.8375 - val_loss: 0.8469 - val_mean_squared_error: 0.8469\n",
      "Epoch 4/40\n",
      " - 3s - loss: 0.6987 - mean_squared_error: 0.6987 - val_loss: 0.7705 - val_mean_squared_error: 0.7705\n",
      "Epoch 5/40\n",
      " - 3s - loss: 0.5916 - mean_squared_error: 0.5916 - val_loss: 0.7203 - val_mean_squared_error: 0.7203\n",
      "Epoch 6/40\n",
      " - 3s - loss: 0.5238 - mean_squared_error: 0.5238 - val_loss: 0.7091 - val_mean_squared_error: 0.7091\n",
      "Epoch 7/40\n",
      " - 4s - loss: 0.4760 - mean_squared_error: 0.4760 - val_loss: 0.6507 - val_mean_squared_error: 0.6507\n",
      "Epoch 8/40\n",
      " - 4s - loss: 0.4109 - mean_squared_error: 0.4109 - val_loss: 0.6161 - val_mean_squared_error: 0.6161\n",
      "Epoch 9/40\n",
      " - 4s - loss: 0.3754 - mean_squared_error: 0.3754 - val_loss: 0.6536 - val_mean_squared_error: 0.6536\n",
      "Epoch 10/40\n",
      " - 4s - loss: 0.3372 - mean_squared_error: 0.3372 - val_loss: 0.6020 - val_mean_squared_error: 0.6020\n",
      "Epoch 11/40\n",
      " - 3s - loss: 0.2991 - mean_squared_error: 0.2991 - val_loss: 0.6009 - val_mean_squared_error: 0.6009\n",
      "Epoch 12/40\n",
      " - 3s - loss: 0.2777 - mean_squared_error: 0.2777 - val_loss: 0.5837 - val_mean_squared_error: 0.5837\n",
      "Epoch 13/40\n",
      " - 3s - loss: 0.2497 - mean_squared_error: 0.2497 - val_loss: 0.5896 - val_mean_squared_error: 0.5896\n",
      "Epoch 14/40\n",
      " - 4s - loss: 0.2326 - mean_squared_error: 0.2326 - val_loss: 0.6237 - val_mean_squared_error: 0.6237\n",
      "Epoch 15/40\n",
      " - 3s - loss: 0.2111 - mean_squared_error: 0.2111 - val_loss: 0.6533 - val_mean_squared_error: 0.6533\n",
      "Epoch 16/40\n",
      " - 4s - loss: 0.1911 - mean_squared_error: 0.1911 - val_loss: 0.5616 - val_mean_squared_error: 0.5616\n",
      "Epoch 17/40\n",
      " - 3s - loss: 0.1727 - mean_squared_error: 0.1727 - val_loss: 0.5586 - val_mean_squared_error: 0.5586\n",
      "Epoch 18/40\n",
      " - 3s - loss: 0.1609 - mean_squared_error: 0.1609 - val_loss: 0.5606 - val_mean_squared_error: 0.5606\n",
      "Epoch 19/40\n",
      " - 3s - loss: 0.1483 - mean_squared_error: 0.1483 - val_loss: 0.5754 - val_mean_squared_error: 0.5754\n",
      "Epoch 20/40\n",
      " - 3s - loss: 0.1441 - mean_squared_error: 0.1441 - val_loss: 0.5773 - val_mean_squared_error: 0.5773\n",
      "Epoch 21/40\n",
      " - 4s - loss: 0.1314 - mean_squared_error: 0.1314 - val_loss: 0.5539 - val_mean_squared_error: 0.5539\n",
      "Epoch 22/40\n",
      " - 3s - loss: 0.1227 - mean_squared_error: 0.1227 - val_loss: 0.5546 - val_mean_squared_error: 0.5546\n",
      "Epoch 23/40\n",
      " - 3s - loss: 0.1151 - mean_squared_error: 0.1151 - val_loss: 0.5535 - val_mean_squared_error: 0.5535\n",
      "Epoch 24/40\n",
      " - 3s - loss: 0.1088 - mean_squared_error: 0.1088 - val_loss: 0.5470 - val_mean_squared_error: 0.5470\n",
      "Epoch 25/40\n",
      " - 4s - loss: 0.1043 - mean_squared_error: 0.1043 - val_loss: 0.5698 - val_mean_squared_error: 0.5698\n",
      "Epoch 26/40\n",
      " - 4s - loss: 0.0955 - mean_squared_error: 0.0955 - val_loss: 0.5594 - val_mean_squared_error: 0.5594\n",
      "Epoch 27/40\n",
      " - 3s - loss: 0.0876 - mean_squared_error: 0.0876 - val_loss: 0.5618 - val_mean_squared_error: 0.5618\n",
      "Epoch 28/40\n",
      " - 4s - loss: 0.0838 - mean_squared_error: 0.0838 - val_loss: 0.5766 - val_mean_squared_error: 0.5766\n",
      "Epoch 29/40\n",
      " - 4s - loss: 0.0795 - mean_squared_error: 0.0795 - val_loss: 0.5502 - val_mean_squared_error: 0.5502\n",
      "Epoch 30/40\n",
      " - 4s - loss: 0.0794 - mean_squared_error: 0.0794 - val_loss: 0.5631 - val_mean_squared_error: 0.5631\n",
      "Epoch 31/40\n",
      " - 3s - loss: 0.0745 - mean_squared_error: 0.0745 - val_loss: 0.5469 - val_mean_squared_error: 0.5469\n",
      "Epoch 32/40\n",
      " - 3s - loss: 0.0685 - mean_squared_error: 0.0685 - val_loss: 0.5713 - val_mean_squared_error: 0.5713\n",
      "Epoch 33/40\n",
      " - 3s - loss: 0.0688 - mean_squared_error: 0.0688 - val_loss: 0.5471 - val_mean_squared_error: 0.5471\n",
      "Epoch 34/40\n",
      " - 3s - loss: 0.0683 - mean_squared_error: 0.0683 - val_loss: 0.5463 - val_mean_squared_error: 0.5463\n",
      "Epoch 35/40\n",
      " - 4s - loss: 0.0639 - mean_squared_error: 0.0639 - val_loss: 0.5486 - val_mean_squared_error: 0.5486\n",
      "Epoch 36/40\n",
      " - 3s - loss: 0.0583 - mean_squared_error: 0.0583 - val_loss: 0.5409 - val_mean_squared_error: 0.5409\n",
      "Epoch 37/40\n",
      " - 4s - loss: 0.0625 - mean_squared_error: 0.0625 - val_loss: 0.5387 - val_mean_squared_error: 0.5387\n",
      "Epoch 38/40\n",
      " - 3s - loss: 0.0548 - mean_squared_error: 0.0548 - val_loss: 0.5490 - val_mean_squared_error: 0.5490\n",
      "Epoch 39/40\n",
      " - 3s - loss: 0.0562 - mean_squared_error: 0.0562 - val_loss: 0.5662 - val_mean_squared_error: 0.5662\n",
      "Epoch 40/40\n",
      " - 3s - loss: 0.0567 - mean_squared_error: 0.0567 - val_loss: 0.5650 - val_mean_squared_error: 0.5650\n",
      "Baseline Error: 43.50%\n"
     ]
    }
   ],
   "source": [
    "# Fit the model\n",
    "model.fit(X_train, y_train, validation_data=(X_test, y_test), epochs=40, batch_size=200, verbose=1)\n",
    "# Final evaluation of the model\n",
    "scores = model.evaluate(X_test, y_test, verbose=0)\n",
    "print(\"Baseline Error: %.2f%%\" % (100-scores[1]*100))"
   ]
  },
  {
   "cell_type": "code",
   "execution_count": 21,
   "metadata": {},
   "outputs": [],
   "source": [
    "#--- Lets test the model\n",
    "y_pred = model.predict(X_test)"
   ]
  },
  {
   "cell_type": "code",
   "execution_count": 22,
   "metadata": {},
   "outputs": [
    {
     "data": {
      "image/png": "[encoded data removed]",
      "text/plain": [
       "<Figure size 432x288 with 1 Axes>"
      ]
     },
     "metadata": {
      "needs_background": "light"
     },
     "output_type": "display_data"
    }
   ],
   "source": [
    "plt.scatter(y_test, y_pred)\n",
    "plt.show()"
   ]
  },
  {
   "cell_type": "markdown",
   "metadata": {},
   "source": [
    "***\n",
    "***\n",
    "***"
   ]
  },
  {
   "cell_type": "code",
   "execution_count": 23,
   "metadata": {},
   "outputs": [],
   "source": [
    "#\n",
    "#  https://www.kernix.com/blog/a-toy-convolutional-neural-network-for-image-classification-with-keras_p14\n",
    "#\n",
    "def plot_confusion_matrix(y_true,y_pred):\n",
    "    cm_array = confusion_matrix(y_true,y_pred)\n",
    "    true_labels = np.unique(y_true)\n",
    "    pred_labels = np.unique(y_pred)\n",
    "    plt.imshow(cm_array, interpolation='nearest', cmap=plt.cm.jet)\n",
    "    plt.title(\"Confusion matrix\", fontsize=16)\n",
    "    cbar = plt.colorbar(fraction=0.046, pad=0.04)\n",
    "    cbar.set_label('Number of images', rotation=270, labelpad=30, fontsize=12)\n",
    "    xtick_marks = np.arange(len(true_labels))\n",
    "    ytick_marks = np.arange(len(pred_labels))\n",
    "    plt.xticks(xtick_marks, true_labels, rotation=90)\n",
    "    plt.yticks(ytick_marks,pred_labels)\n",
    "    plt.tight_layout()\n",
    "    plt.ylabel('True label', fontsize=14)\n",
    "    plt.xlabel('Predicted label', fontsize=14)\n",
    "    fig_size = plt.rcParams[\"figure.figsize\"]\n",
    "    fig_size[0] = 12\n",
    "    fig_size[1] = 12\n",
    "    plt.rcParams[\"figure.figsize\"] = fig_size"
   ]
  },
  {
   "cell_type": "code",
   "execution_count": 27,
   "metadata": {},
   "outputs": [
    {
     "data": {
      "image/png": "[encoded data removed]",
      "text/plain": [
       "<Figure size 432x288 with 2 Axes>"
      ]
     },
     "metadata": {
      "needs_background": "light"
     },
     "output_type": "display_data"
    }
   ],
   "source": [
    "from sklearn.metrics import classification_report, confusion_matrix\n",
    "plot_confusion_matrix(y_test,y_pred.astype(np.int8))"
   ]
  },
  {
   "cell_type": "code",
   "execution_count": null,
   "metadata": {},
   "outputs": [],
   "source": []
  }
 ],
 "metadata": {
  "kernelspec": {
   "display_name": "Python [conda env:keras_env]",
   "language": "python",
   "name": "conda-env-keras_env-py"
  },
  "language_info": {
   "codemirror_mode": {
    "name": "ipython",
    "version": 3
   },
   "file_extension": ".py",
   "mimetype": "text/x-python",
   "name": "python",
   "nbconvert_exporter": "python",
   "pygments_lexer": "ipython3",
   "version": "3.5.6"
  }
 },
 "nbformat": 4,
 "nbformat_minor": 2
}
